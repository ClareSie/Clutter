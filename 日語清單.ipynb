{
 "cells": [
  {
   "cell_type": "markdown",
   "metadata": {},
   "source": [
    "50音:\n",
    "跟上/跟上並念/提前看下一行並念\n",
    "1.古老的大鐘-平井堅\n",
    "資訊歌詞 https://www.youtube.com/watch?v=W8iunUgRQoI\n",
    "動態歌詞 https://www.youtube.com/watch?v=BbJtDm-nA8Q\n",
    "\n",
    "2.滿是夢想-小丸子主題曲\n",
    "動態歌詞 https://www.youtube.com/watch?v=KVIaL5IEVnY\n",
    "\n",
    "3.多拉A夢之歌-多拉A夢主題曲\n",
    "新-動態歌詞 https://www.youtube.com/watch?v=7XFTUGtz_lk\n",
    "舊-動態歌詞 https://www.youtube.com/watch?v=eP-VwH7VKss\n",
    "\n",
    "---------------------------------------------\n",
    "基礎:\n",
    "漢字-發音聽力/翻譯/文型\n",
    "1.世界僅有唯一的花-SMAP\n",
    "動態歌詞 https://www.youtube.com/watch?v=YzLw5e01ihs\n",
    "動態歌詞 https://www.youtube.com/watch?v=FESNjOIZt3Y\n",
    "\n",
    "2.淚光閃閃-夏川里美\n",
    "動態歌詞 https://www.youtube.com/watch?v=qQIe06_BuqA\n",
    "\n",
    "3.給15歲的你-安潔拉雅紀\n",
    "動態歌詞 https://www.youtube.com/watch?v=f866UMa7Ojc\n",
    "\n",
    "4.First Love-宇多田光\n",
    "動態歌詞 https://www.youtube.com/watch?v=AWkmkvM5WHs\n",
    "\n",
    "---------------------------------------------\n",
    "進階:\n",
    "速度\n",
    "1.小小戀愛之歌-求婚大作戰\n",
    "動態歌詞 https://www.youtube.com/watch?v=vJO4Fg_iEss\n",
    "\n",
    "2.留在我身邊-青山黛瑪\n",
    "動態歌詞 https://www.youtube.com/watch?v=3_Bpd5brDro\n",
    "\n",
    "3.葛飾狂想曲-烏龍派出所\n",
    "動態歌詞 https://www.youtube.com/watch?v=3o9X_km46wU\n",
    "\n",
    "るぼへん\n",
    "ルボヘン\n",
    "\n",
    "\n"
   ]
  }
 ],
 "metadata": {
  "kernelspec": {
   "display_name": "Python 3",
   "language": "python",
   "name": "python3"
  },
  "language_info": {
   "codemirror_mode": {
    "name": "ipython",
    "version": 3
   },
   "file_extension": ".py",
   "mimetype": "text/x-python",
   "name": "python",
   "nbconvert_exporter": "python",
   "pygments_lexer": "ipython3",
   "version": "3.6.4"
  }
 },
 "nbformat": 4,
 "nbformat_minor": 2
}
